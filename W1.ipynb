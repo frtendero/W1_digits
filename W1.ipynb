{
 "cells": [
  {
   "cell_type": "code",
   "execution_count": 1,
   "metadata": {
    "pycharm": {
     "is_executing": false,
     "metadata": false,
     "name": "#%%\n"
    }
   },
   "outputs": [
    {
     "data": {
      "text/plain": [
       "<Figure size 640x480 with 0 Axes>"
      ]
     },
     "metadata": {},
     "output_type": "display_data"
    },
    {
     "data": {
      "text/plain": [
       "<Figure size 480x480 with 1 Axes>"
      ]
     },
     "metadata": {},
     "output_type": "display_data"
    }
   ],
   "source": [
    "\"\"\"\n",
    "Workbook analyzing DIGITS dataset from scikit-learn using K Nearest Neighbours Classifier\n",
    "\"\"\"\n",
    "\n",
    "\"\"\"\n",
    "1. Election of dataset: Digits dataset is going to be used.\n",
    "This is a classification dataset where each data-point is a 8x8 image image of a digit.\n",
    "\"\"\"\n",
    "\n"
   ]
  },
  {
   "cell_type": "code",
   "execution_count": 1,
   "metadata": {},
   "outputs": [
    {
     "data": {
      "text/plain": [
       "<Figure size 640x480 with 0 Axes>"
      ]
     },
     "metadata": {},
     "output_type": "display_data"
    },
    {
     "data": {
      "text/plain": [
       "<Figure size 480x480 with 1 Axes>"
      ]
     },
     "metadata": {},
     "output_type": "display_data"
    }
   ],
   "source": [
    "\n",
    "from sklearn.datasets import load_digits\n",
    "digits = load_digits()\n",
    "\n",
    "\"\"\"\n",
    "2. Description of the dataset\n",
    "\"\"\"\n",
    "# An example of the data:\n",
    "import matplotlib.pyplot as plt\n",
    "plt.gray()\n",
    "plt.matshow(digits.images[12])\n",
    "plt.show()"
   ]
  },
  {
   "cell_type": "code",
   "execution_count": 2,
   "metadata": {
    "pycharm": {
     "is_executing": false,
     "metadata": false,
     "name": "#%%\n"
    }
   },
   "outputs": [
    {
     "name": "stdout",
     "output_type": "stream",
     "text": [
      "(number of observations, number of features): (1797, 64)\n",
      "Num of digit '0' samples: 178\n",
      "Num of digit '1' samples: 182\n",
      "Num of digit '2' samples: 177\n",
      "Num of digit '3' samples: 183\n",
      "Num of digit '4' samples: 181\n",
      "Num of digit '5' samples: 182\n",
      "Num of digit '6' samples: 181\n",
      "Num of digit '7' samples: 179\n",
      "Num of digit '8' samples: 174\n",
      "Num of digit '9' samples: 180\n"
     ]
    }
   ],
   "source": [
    "# Data is a dictionary. We can then navigate through the dataset using the keys\n",
    "digits.keys()\n",
    "X = digits['data']\n",
    "y = digits['target']\n",
    "\n",
    "# (number of observations, number of features) Note that num features is 64 because it's a 8x8 image\n",
    "print(\"(number of observations, number of features): \"+ str(X.shape))\n",
    "\n",
    "# classes: (each one of the 10 class is a digit from 0 to 9\n",
    "classes = digits['target_names']\n",
    "\n",
    "# number of samples per class\n",
    "for i in classes:\n",
    "    print(\"Num of digit '\" + str(i) + \"' samples: \" + str(sum(y == i)))\n"
   ]
  },
  {
   "cell_type": "code",
   "execution_count": 3,
   "metadata": {
    "pycharm": {
     "is_executing": false,
     "metadata": false,
     "name": "#%%\n"
    }
   },
   "outputs": [
    {
     "name": "stdout",
     "output_type": "stream",
     "text": [
      "\n",
      "Best Estimator:\n",
      "KNeighborsClassifier(algorithm='auto', leaf_size=30, metric='minkowski',\n",
      "           metric_params=None, n_jobs=None, n_neighbors=1, p=2,\n",
      "           weights='uniform')\n",
      "\n",
      "Parameters of best estimator:\n",
      "{'n_neighbors': 1}\n",
      "\n",
      "Training score: 0.9895615866388309\n",
      "Test score: 0.9861111111111112\n"
     ]
    }
   ],
   "source": [
    "\"\"\"\n",
    "EXPERIMENTS\n",
    "\"\"\"\n",
    "\n",
    "# the dataset is split so that 80% of the data is used for training, and 20% for test.\n",
    "from sklearn.model_selection import train_test_split\n",
    "X_train, X_test, y_train, y_test = train_test_split(X, y, test_size=0.2, random_state=13)\n",
    "\n",
    "# K Nearest Neighbors Classifier is going to be used\n",
    "from sklearn.neighbors import KNeighborsClassifier\n",
    "myKNN = KNeighborsClassifier()\n",
    "\n",
    "# required imports for performing grid search cross validation and stratified k fold technique.\n",
    "from sklearn.model_selection import GridSearchCV\n",
    "from sklearn.model_selection import StratifiedKFold\n",
    "\n",
    "# A param grid dictionary is created with the parameters to try in the cross-validation process\n",
    "param_grid = {'n_neighbors': [1, 3, 5, 7, 9, 11, 13, 15]}\n",
    "\n",
    "# KNN estimator, accuracy as scoring, and the data will be split into 10 chunks, thus, it will take 10 iterations\n",
    "myGSCV = GridSearchCV(estimator=myKNN, param_grid=param_grid, scoring='accuracy',\n",
    "                      cv=StratifiedKFold(n_splits=10, random_state=3))\n",
    "\n",
    "# Training of the model\n",
    "myGSCV.fit(X_train, y_train)\n",
    "\n",
    "# prediction (using best_estimator_ by default)\n",
    "y_pred = myGSCV.predict(X_test)\n",
    "\n",
    "# Results\n",
    "print(\"\\nBest Estimator:\\n\" + str(myGSCV.best_estimator_))  # best estimator\n",
    "print(\"\\nParameters of best estimator:\\n\" + str(myGSCV.best_params_))   # parameters of the best estimator\n",
    "print(\"\\nTraining score: \" + str(myGSCV.best_score_))  # training score for achieved with the best estimator\n",
    "print(\"Test score: \" + str(myGSCV.score(X_test, y_test)))  # test score\n"
   ]
  },
  {
   "cell_type": "code",
   "execution_count": 8,
   "metadata": {
    "pycharm": {
     "is_executing": false,
     "metadata": false,
     "name": "#%%\n"
    }
   },
   "outputs": [
    {
     "name": "stdout",
     "output_type": "stream",
     "text": [
      "\n",
      "Best Estimator:\n",
      "KNeighborsClassifier(algorithm='auto', leaf_size=30, metric='minkowski',\n",
      "           metric_params=None, n_jobs=None, n_neighbors=1, p=2,\n",
      "           weights='uniform')\n",
      "\n",
      "Parameters of best estimator:\n",
      "{'n_neighbors': 1}\n",
      "\n",
      "Training score: 0.9895615866388309\n",
      "Test score: 0.9861111111111112\n"
     ]
    }
   ],
   "source": [
    "\"\"\"\n",
    "4. Using Leave one out validation.\n",
    "Now, in each iteration of the cross validation process, all observations except one will be used for training.\n",
    "This means that, in the first iteration, observation #1 is out, in second iteration, observation #2 is out, and so on.\n",
    "Thus, there will be as many iterations as training samples (length of X_train), which means a high computational cost.\n",
    "\"\"\"\n",
    "from sklearn.model_selection import LeaveOneOut\n",
    "myLOO = GridSearchCV(estimator=myKNN, param_grid=param_grid, scoring='accuracy', cv=LeaveOneOut(), n_jobs=-1)\n",
    "\n",
    "# Training of the model\n",
    "myLOO.fit(X_train, y_train)\n",
    "\n",
    "# prediction (using best_estimator_ by default)\n",
    "y_predLOO = myLOO.predict(X_test)\n",
    "\n",
    "# Results\n",
    "print(\"\\nBest Estimator:\\n\" + str(myLOO.best_estimator_))   # best estimator\n",
    "print(\"\\nParameters of best estimator:\\n\" + str(myLOO.best_params_))    # parameters of the best estimator\n",
    "print(\"\\nTraining score: \" + str(myLOO.best_score_))  # training score for achieved with the best estimator\n",
    "print(\"Test score: \" + str(myLOO.score(X_test, y_test)))  # test score\n"
   ]
  },
  {
   "cell_type": "code",
   "execution_count": 9,
   "metadata": {
    "pycharm": {
     "is_executing": false,
     "metadata": false,
     "name": "#%%\n"
    }
   },
   "outputs": [
    {
     "name": "stdout",
     "output_type": "stream",
     "text": [
      "Classes distribution in Training\n",
      "Num of digit '0' samples: 148\n",
      "Num of digit '1' samples: 145\n",
      "Num of digit '2' samples: 139\n",
      "Num of digit '3' samples: 146\n",
      "Num of digit '4' samples: 143\n",
      "Num of digit '5' samples: 137\n",
      "Num of digit '6' samples: 139\n",
      "Num of digit '7' samples: 153\n",
      "Num of digit '8' samples: 140\n",
      "Num of digit '9' samples: 147\n",
      "\n",
      "Classes distribution in Test\n",
      "Num of digit '0' samples: 30\n",
      "Num of digit '1' samples: 37\n",
      "Num of digit '2' samples: 38\n",
      "Num of digit '3' samples: 37\n",
      "Num of digit '4' samples: 38\n",
      "Num of digit '5' samples: 45\n",
      "Num of digit '6' samples: 42\n",
      "Num of digit '7' samples: 26\n",
      "Num of digit '8' samples: 34\n",
      "Num of digit '9' samples: 33\n",
      "\n",
      "Best Estimator:\n",
      "KNeighborsClassifier(algorithm='auto', leaf_size=30, metric='minkowski',\n",
      "           metric_params=None, n_jobs=None, n_neighbors=1, p=2,\n",
      "           weights='uniform')\n",
      "\n",
      "Parameters of best estimator:\n",
      "{'n_neighbors': 1}\n",
      "\n",
      "Training score: 0.9895615866388309\n",
      "Test score: 0.9861111111111112\n"
     ]
    }
   ],
   "source": [
    "\"\"\"\n",
    "5. Stratified K Fold.\n",
    "There is a similar number of samples per each class, so, if this distribution is preserved when\n",
    "splitting into training (X_train) and (X_test), stratification is not indispensable.\n",
    "\"\"\"\n",
    "\n",
    "print('Classes distribution in Training')\n",
    "for i in classes:\n",
    "    print(\"Num of digit '\" + str(i) + \"' samples: \" + str(sum(y_train == i)))\n",
    "\n",
    "print('\\nClasses distribution in Test')\n",
    "for i in classes:\n",
    "    print(\"Num of digit '\" + str(i) + \"' samples: \" + str(sum(y_test == i)))\n",
    "\n",
    "# KNN estimator, accuracy as scoring, and the data will be split into 10 chunks, thus, it will take 10 iterations\n",
    "from sklearn.model_selection import KFold\n",
    "\n",
    "myGSCV_noStrat = GridSearchCV(estimator=myKNN, param_grid=param_grid, scoring='accuracy',\n",
    "                              cv=KFold(n_splits=10, random_state=3))\n",
    "\n",
    "# Training of the model\n",
    "myGSCV_noStrat.fit(X_train, y_train)\n",
    "\n",
    "# prediction (using best_estimator_ by default)\n",
    "y_pred_noStrat = myGSCV_noStrat.predict(X_test)\n",
    "\n",
    "# Results. It's shown how the score is not affected when not using Stratified KFOLD\n",
    "print(\"\\nBest Estimator:\\n\" + str(myGSCV_noStrat.best_estimator_))  # best estimator\n",
    "print(\"\\nParameters of best estimator:\\n\" + str(myGSCV_noStrat.best_params_))   # parameters of the best estimator\n",
    "print(\"\\nTraining score: \" + str(myGSCV_noStrat.best_score_))  # training score for achieved with the best estimator\n",
    "print(\"Test score: \" + str(myGSCV_noStrat.score(X_test, y_test)))  # test score\n"
   ]
  },
  {
   "cell_type": "code",
   "execution_count": 10,
   "metadata": {
    "pycharm": {
     "is_executing": false,
     "metadata": false,
     "name": "#%%\n"
    }
   },
   "outputs": [
    {
     "name": "stdout",
     "output_type": "stream",
     "text": [
      "\n",
      "Best Estimator:\n",
      "KNeighborsClassifier(algorithm='auto', leaf_size=30, metric='minkowski',\n",
      "           metric_params=None, n_jobs=None, n_neighbors=3, p=2,\n",
      "           weights='distance')\n",
      "\n",
      "Parameters of best estimator:\n",
      "{'n_neighbors': 3, 'weights': 'distance'}\n",
      "\n",
      "Training score: 0.9902574808629089\n",
      "Test score: 0.9805555555555555\n"
     ]
    }
   ],
   "source": [
    "\"\"\"\n",
    "6. Distance Weights\n",
    "# uniform weights (default): all points in each neighborhood have same weight (used in exercise 3)\n",
    "# distance weights: points closer to the evaluated will have more influence.\n",
    "\"\"\"\n",
    "param_grid = {'n_neighbors': [1, 3, 5, 7, 9, 11, 13, 15], 'weights': ['uniform', 'distance']}\n",
    "# KNN estimator, accuracy as scoring, and the data will be split into 10 chunks, thus, it will take 10 iterations\n",
    "myGSCV_w = GridSearchCV(estimator=myKNN, param_grid=param_grid, scoring='accuracy',\n",
    "                        cv=StratifiedKFold(n_splits=10, random_state=3))\n",
    "\n",
    "# Training of the model\n",
    "myGSCV_w.fit(X_train, y_train)\n",
    "\n",
    "# prediction (using best_estimator_ by default)\n",
    "y_pred_w = myGSCV_w.predict(X_test)\n",
    "\n",
    "# Results. Note that distance weights are preferred\n",
    "print(\"\\nBest Estimator:\\n\" + str(myGSCV_w.best_estimator_))  # best estimator\n",
    "print(\"\\nParameters of best estimator:\\n\" + str(myGSCV_w.best_params_))   # parameters of the best estimator\n",
    "print(\"\\nTraining score: \" + str(myGSCV_w.best_score_))  # training score for achieved with the best estimator\n",
    "print(\"Test score: \" + str(myGSCV_w.score(X_test, y_test)))  # test score\n"
   ]
  },
  {
   "cell_type": "code",
   "execution_count": null,
   "metadata": {
    "pycharm": {
     "metadata": false,
     "name": "#%%\n"
    }
   },
   "outputs": [],
   "source": [
    "\"\"\"\n",
    "7. Testing different metrics.\n",
    "The default metric used is minkowski. Now euclidean and manhattan metrics will be taken into account, thus, they will\n",
    "be included in the param grid.\n",
    "\"\"\"\n",
    "\"\"\"\n",
    "Also, the value 1 and 2 for the parameter 'p' are manhattan and euclidean metrics and for minkowski, a parameter 'p' can be adjusted, so the different values will also be included.\n",
    "\"\"\"\n",
    "param_grid = {'n_neighbors': [1, 3, 5, 7, 9, 11, 13],\n",
    "              'weights': ['uniform', 'distance'],\n",
    "              'p': [1, 2, 3, 4, 5, 6, 7, 8, 9]}\n",
    "\n",
    "myGSCV_m = GridSearchCV(estimator=myKNN, param_grid=param_grid, scoring='accuracy',\n",
    "                        cv=StratifiedKFold(n_splits=10, random_state=3))\n",
    "\n",
    "# Training of the model\n",
    "myGSCV_m.fit(X_train, y_train)\n",
    "\n",
    "# prediction (using best_estimator_ by default)\n",
    "y_pred_m = myGSCV_m.predict(X_test)\n",
    "\n",
    "# Results\n",
    "print(\"\\nBest Estimator:\\n\" + str(myGSCV_m.best_estimator_))  # best estimator\n",
    "print(\"\\nParameters of best estimator:\\n\" + str(myGSCV_m.best_params_))   # parameters of the best estimator\n",
    "print(\"\\nTraining score: \" + str(myGSCV_m.best_score_))  # training score for achieved with the best estimator\n",
    "print(\"Test score: \" + str(myGSCV_m.score(X_test, y_test)))  # test score\n",
    "\n"
   ]
  },
  {
   "cell_type": "code",
   "execution_count": null,
   "metadata": {
    "pycharm": {
     "metadata": false,
     "name": "#%%\n"
    }
   },
   "outputs": [],
   "source": [
    "\"\"\"\n",
    "8. Now, let's repeat the previous sections with the following data.\n",
    "\"\"\"\n",
    "\n",
    "# Importing csv dataset into a numpy structure (2)\n",
    "X = np.genfromtxt('data/biodeg.csv', delimiter=\";\", skip_header=0, usecols=range(0, 41))    #1055x41\n",
    "y = np.genfromtxt('data/biodeg.csv', delimiter=\";\", skip_header=0, usecols=-1, dtype=str)   #1055x1\n",
    "\n",
    "\n",
    "\n",
    "# (number of observations, number of features)\n",
    "print(\"(number of observations, number of features): \"+ str(X.shape))\n",
    "\n",
    "# classes:\n",
    "classes = [\"RB\", \"NRB\"]   # Ready-Biodegradable, Not Ready-Biodegradable\n",
    "\n",
    "\n"
   ]
  }
 ],
 "metadata": {
  "kernelspec": {
   "display_name": "Python 3",
   "language": "python",
   "name": "python3"
  },
  "language_info": {
   "codemirror_mode": {
    "name": "ipython",
    "version": 3
   },
   "file_extension": ".py",
   "mimetype": "text/x-python",
   "name": "python",
   "nbconvert_exporter": "python",
   "pygments_lexer": "ipython3",
   "version": "3.6.8"
  },
  "stem_cell": {
   "cell_type": "raw",
   "metadata": {
    "pycharm": {
     "metadata": false
    }
   },
   "source": ""
  }
 },
 "nbformat": 4,
 "nbformat_minor": 2
}
